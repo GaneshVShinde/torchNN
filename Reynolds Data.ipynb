{
 "cells": [
  {
   "cell_type": "code",
   "execution_count": 28,
   "metadata": {},
   "outputs": [],
   "source": [
    "import numpy as np\n",
    "import scipy\n",
    "import matplotlib.pyplot as plt\n",
    "import pandas as pd"
   ]
  },
  {
   "cell_type": "code",
   "execution_count": 38,
   "metadata": {},
   "outputs": [],
   "source": [
    "no_elements=10000"
   ]
  },
  {
   "cell_type": "code",
   "execution_count": 39,
   "metadata": {},
   "outputs": [],
   "source": [
    "velocity = np.random.uniform(0,2,no_elements)"
   ]
  },
  {
   "cell_type": "code",
   "execution_count": 40,
   "metadata": {},
   "outputs": [],
   "source": [
    "density = np.random.uniform(1,3000,no_elements)"
   ]
  },
  {
   "cell_type": "code",
   "execution_count": 41,
   "metadata": {},
   "outputs": [],
   "source": [
    "length=np.random.uniform(0.001,10,no_elements)"
   ]
  },
  {
   "cell_type": "code",
   "execution_count": 42,
   "metadata": {},
   "outputs": [],
   "source": [
    "viscosity=np.random.uniform(0.00001,1,no_elements)"
   ]
  },
  {
   "cell_type": "code",
   "execution_count": 43,
   "metadata": {},
   "outputs": [],
   "source": [
    "rNo=pd.DataFrame({\"velocity\":velocity,\"density\":density,\"length\":length,\"viscosity\":viscosity})"
   ]
  },
  {
   "cell_type": "code",
   "execution_count": 79,
   "metadata": {},
   "outputs": [
    {
     "data": {
      "text/plain": [
       "array(['lamminar', 'lamminar', 'turbulant', ..., 'turbulant', 'lamminar',\n",
       "       'lamminar'], dtype='<U9')"
      ]
     },
     "execution_count": 79,
     "metadata": {},
     "output_type": "execute_result"
    }
   ],
   "source": [
    "fluid_type=((rNo.velocity*rNo.density*rNo.length)/rNo.viscosity)<2300\n",
    "fluid=np.array([\"turbulant\"]*fluid_type.shape[0])\n",
    "fluid[np.argwhere(fluid_type==True).flatten()]=\"lamminar\"\n",
    "fluid"
   ]
  },
  {
   "cell_type": "code",
   "execution_count": 80,
   "metadata": {},
   "outputs": [
    {
     "data": {
      "text/html": [
       "<div>\n",
       "<style scoped>\n",
       "    .dataframe tbody tr th:only-of-type {\n",
       "        vertical-align: middle;\n",
       "    }\n",
       "\n",
       "    .dataframe tbody tr th {\n",
       "        vertical-align: top;\n",
       "    }\n",
       "\n",
       "    .dataframe thead th {\n",
       "        text-align: right;\n",
       "    }\n",
       "</style>\n",
       "<table border=\"1\" class=\"dataframe\">\n",
       "  <thead>\n",
       "    <tr style=\"text-align: right;\">\n",
       "      <th></th>\n",
       "      <th>velocity</th>\n",
       "      <th>density</th>\n",
       "      <th>length</th>\n",
       "      <th>viscosity</th>\n",
       "      <th>fluid_type</th>\n",
       "    </tr>\n",
       "  </thead>\n",
       "  <tbody>\n",
       "    <tr>\n",
       "      <th>0</th>\n",
       "      <td>0.001199</td>\n",
       "      <td>2379.887833</td>\n",
       "      <td>6.206772</td>\n",
       "      <td>0.976542</td>\n",
       "      <td>lamminar</td>\n",
       "    </tr>\n",
       "    <tr>\n",
       "      <th>1</th>\n",
       "      <td>1.799135</td>\n",
       "      <td>2769.280287</td>\n",
       "      <td>0.067811</td>\n",
       "      <td>0.630434</td>\n",
       "      <td>lamminar</td>\n",
       "    </tr>\n",
       "    <tr>\n",
       "      <th>2</th>\n",
       "      <td>0.827366</td>\n",
       "      <td>1972.343405</td>\n",
       "      <td>4.918656</td>\n",
       "      <td>0.308560</td>\n",
       "      <td>turbulant</td>\n",
       "    </tr>\n",
       "    <tr>\n",
       "      <th>3</th>\n",
       "      <td>0.368279</td>\n",
       "      <td>544.946357</td>\n",
       "      <td>1.732997</td>\n",
       "      <td>0.943328</td>\n",
       "      <td>lamminar</td>\n",
       "    </tr>\n",
       "    <tr>\n",
       "      <th>4</th>\n",
       "      <td>0.613303</td>\n",
       "      <td>2954.479401</td>\n",
       "      <td>0.616355</td>\n",
       "      <td>0.426081</td>\n",
       "      <td>turbulant</td>\n",
       "    </tr>\n",
       "    <tr>\n",
       "      <th>5</th>\n",
       "      <td>0.420170</td>\n",
       "      <td>807.780227</td>\n",
       "      <td>5.465739</td>\n",
       "      <td>0.988169</td>\n",
       "      <td>lamminar</td>\n",
       "    </tr>\n",
       "    <tr>\n",
       "      <th>6</th>\n",
       "      <td>0.075826</td>\n",
       "      <td>2344.900850</td>\n",
       "      <td>3.522335</td>\n",
       "      <td>0.406993</td>\n",
       "      <td>lamminar</td>\n",
       "    </tr>\n",
       "    <tr>\n",
       "      <th>7</th>\n",
       "      <td>0.106172</td>\n",
       "      <td>2036.190906</td>\n",
       "      <td>1.579430</td>\n",
       "      <td>0.795216</td>\n",
       "      <td>lamminar</td>\n",
       "    </tr>\n",
       "    <tr>\n",
       "      <th>8</th>\n",
       "      <td>1.446178</td>\n",
       "      <td>744.423547</td>\n",
       "      <td>0.830286</td>\n",
       "      <td>0.652682</td>\n",
       "      <td>lamminar</td>\n",
       "    </tr>\n",
       "    <tr>\n",
       "      <th>9</th>\n",
       "      <td>0.470074</td>\n",
       "      <td>167.040247</td>\n",
       "      <td>0.383250</td>\n",
       "      <td>0.319995</td>\n",
       "      <td>lamminar</td>\n",
       "    </tr>\n",
       "    <tr>\n",
       "      <th>10</th>\n",
       "      <td>1.032948</td>\n",
       "      <td>2878.449983</td>\n",
       "      <td>1.188335</td>\n",
       "      <td>0.666679</td>\n",
       "      <td>turbulant</td>\n",
       "    </tr>\n",
       "    <tr>\n",
       "      <th>11</th>\n",
       "      <td>0.507703</td>\n",
       "      <td>2167.997296</td>\n",
       "      <td>2.613769</td>\n",
       "      <td>0.417810</td>\n",
       "      <td>turbulant</td>\n",
       "    </tr>\n",
       "    <tr>\n",
       "      <th>12</th>\n",
       "      <td>0.262153</td>\n",
       "      <td>2585.302439</td>\n",
       "      <td>1.995438</td>\n",
       "      <td>0.927832</td>\n",
       "      <td>lamminar</td>\n",
       "    </tr>\n",
       "    <tr>\n",
       "      <th>13</th>\n",
       "      <td>1.361924</td>\n",
       "      <td>1018.330638</td>\n",
       "      <td>9.988805</td>\n",
       "      <td>0.167793</td>\n",
       "      <td>turbulant</td>\n",
       "    </tr>\n",
       "    <tr>\n",
       "      <th>14</th>\n",
       "      <td>1.299840</td>\n",
       "      <td>1853.283042</td>\n",
       "      <td>9.963603</td>\n",
       "      <td>0.727465</td>\n",
       "      <td>turbulant</td>\n",
       "    </tr>\n",
       "    <tr>\n",
       "      <th>15</th>\n",
       "      <td>1.258244</td>\n",
       "      <td>2467.539791</td>\n",
       "      <td>8.378472</td>\n",
       "      <td>0.784617</td>\n",
       "      <td>turbulant</td>\n",
       "    </tr>\n",
       "    <tr>\n",
       "      <th>16</th>\n",
       "      <td>1.993037</td>\n",
       "      <td>1734.152122</td>\n",
       "      <td>5.730728</td>\n",
       "      <td>0.595061</td>\n",
       "      <td>turbulant</td>\n",
       "    </tr>\n",
       "    <tr>\n",
       "      <th>17</th>\n",
       "      <td>0.609754</td>\n",
       "      <td>579.786986</td>\n",
       "      <td>9.846585</td>\n",
       "      <td>0.308865</td>\n",
       "      <td>turbulant</td>\n",
       "    </tr>\n",
       "    <tr>\n",
       "      <th>18</th>\n",
       "      <td>0.790419</td>\n",
       "      <td>2140.768505</td>\n",
       "      <td>3.643380</td>\n",
       "      <td>0.490836</td>\n",
       "      <td>turbulant</td>\n",
       "    </tr>\n",
       "    <tr>\n",
       "      <th>19</th>\n",
       "      <td>1.641715</td>\n",
       "      <td>1785.678017</td>\n",
       "      <td>3.706917</td>\n",
       "      <td>0.368654</td>\n",
       "      <td>turbulant</td>\n",
       "    </tr>\n",
       "    <tr>\n",
       "      <th>20</th>\n",
       "      <td>0.766016</td>\n",
       "      <td>2221.523038</td>\n",
       "      <td>1.408488</td>\n",
       "      <td>0.284817</td>\n",
       "      <td>turbulant</td>\n",
       "    </tr>\n",
       "    <tr>\n",
       "      <th>21</th>\n",
       "      <td>1.246288</td>\n",
       "      <td>755.794339</td>\n",
       "      <td>6.675452</td>\n",
       "      <td>0.792657</td>\n",
       "      <td>turbulant</td>\n",
       "    </tr>\n",
       "    <tr>\n",
       "      <th>22</th>\n",
       "      <td>1.141067</td>\n",
       "      <td>1425.748336</td>\n",
       "      <td>3.172551</td>\n",
       "      <td>0.093502</td>\n",
       "      <td>turbulant</td>\n",
       "    </tr>\n",
       "    <tr>\n",
       "      <th>23</th>\n",
       "      <td>1.934050</td>\n",
       "      <td>2276.136740</td>\n",
       "      <td>8.582445</td>\n",
       "      <td>0.645014</td>\n",
       "      <td>turbulant</td>\n",
       "    </tr>\n",
       "    <tr>\n",
       "      <th>24</th>\n",
       "      <td>0.331757</td>\n",
       "      <td>218.982353</td>\n",
       "      <td>0.599484</td>\n",
       "      <td>0.129491</td>\n",
       "      <td>lamminar</td>\n",
       "    </tr>\n",
       "    <tr>\n",
       "      <th>25</th>\n",
       "      <td>0.785686</td>\n",
       "      <td>2490.185133</td>\n",
       "      <td>1.907432</td>\n",
       "      <td>0.460297</td>\n",
       "      <td>turbulant</td>\n",
       "    </tr>\n",
       "    <tr>\n",
       "      <th>26</th>\n",
       "      <td>1.278734</td>\n",
       "      <td>398.294341</td>\n",
       "      <td>4.786277</td>\n",
       "      <td>0.726066</td>\n",
       "      <td>turbulant</td>\n",
       "    </tr>\n",
       "    <tr>\n",
       "      <th>27</th>\n",
       "      <td>0.644223</td>\n",
       "      <td>2820.959142</td>\n",
       "      <td>5.309406</td>\n",
       "      <td>0.071323</td>\n",
       "      <td>turbulant</td>\n",
       "    </tr>\n",
       "    <tr>\n",
       "      <th>28</th>\n",
       "      <td>0.994325</td>\n",
       "      <td>1101.670815</td>\n",
       "      <td>1.821274</td>\n",
       "      <td>0.207047</td>\n",
       "      <td>turbulant</td>\n",
       "    </tr>\n",
       "    <tr>\n",
       "      <th>29</th>\n",
       "      <td>1.471245</td>\n",
       "      <td>2383.373927</td>\n",
       "      <td>4.620107</td>\n",
       "      <td>0.136334</td>\n",
       "      <td>turbulant</td>\n",
       "    </tr>\n",
       "    <tr>\n",
       "      <th>...</th>\n",
       "      <td>...</td>\n",
       "      <td>...</td>\n",
       "      <td>...</td>\n",
       "      <td>...</td>\n",
       "      <td>...</td>\n",
       "    </tr>\n",
       "    <tr>\n",
       "      <th>9970</th>\n",
       "      <td>1.790069</td>\n",
       "      <td>2563.965167</td>\n",
       "      <td>2.772100</td>\n",
       "      <td>0.324221</td>\n",
       "      <td>turbulant</td>\n",
       "    </tr>\n",
       "    <tr>\n",
       "      <th>9971</th>\n",
       "      <td>1.826607</td>\n",
       "      <td>2975.061257</td>\n",
       "      <td>0.619466</td>\n",
       "      <td>0.002570</td>\n",
       "      <td>turbulant</td>\n",
       "    </tr>\n",
       "    <tr>\n",
       "      <th>9972</th>\n",
       "      <td>1.309232</td>\n",
       "      <td>2272.384181</td>\n",
       "      <td>7.831420</td>\n",
       "      <td>0.142343</td>\n",
       "      <td>turbulant</td>\n",
       "    </tr>\n",
       "    <tr>\n",
       "      <th>9973</th>\n",
       "      <td>1.789608</td>\n",
       "      <td>1101.829219</td>\n",
       "      <td>4.611517</td>\n",
       "      <td>0.966127</td>\n",
       "      <td>turbulant</td>\n",
       "    </tr>\n",
       "    <tr>\n",
       "      <th>9974</th>\n",
       "      <td>1.311689</td>\n",
       "      <td>2394.387808</td>\n",
       "      <td>3.986245</td>\n",
       "      <td>0.360391</td>\n",
       "      <td>turbulant</td>\n",
       "    </tr>\n",
       "    <tr>\n",
       "      <th>9975</th>\n",
       "      <td>0.223764</td>\n",
       "      <td>1984.883808</td>\n",
       "      <td>9.987824</td>\n",
       "      <td>0.012562</td>\n",
       "      <td>turbulant</td>\n",
       "    </tr>\n",
       "    <tr>\n",
       "      <th>9976</th>\n",
       "      <td>1.802557</td>\n",
       "      <td>508.652587</td>\n",
       "      <td>7.394867</td>\n",
       "      <td>0.933610</td>\n",
       "      <td>turbulant</td>\n",
       "    </tr>\n",
       "    <tr>\n",
       "      <th>9977</th>\n",
       "      <td>0.665029</td>\n",
       "      <td>991.482269</td>\n",
       "      <td>9.769317</td>\n",
       "      <td>0.346128</td>\n",
       "      <td>turbulant</td>\n",
       "    </tr>\n",
       "    <tr>\n",
       "      <th>9978</th>\n",
       "      <td>0.313008</td>\n",
       "      <td>1709.509404</td>\n",
       "      <td>2.621570</td>\n",
       "      <td>0.283434</td>\n",
       "      <td>turbulant</td>\n",
       "    </tr>\n",
       "    <tr>\n",
       "      <th>9979</th>\n",
       "      <td>1.962166</td>\n",
       "      <td>2712.499340</td>\n",
       "      <td>6.929813</td>\n",
       "      <td>0.849965</td>\n",
       "      <td>turbulant</td>\n",
       "    </tr>\n",
       "    <tr>\n",
       "      <th>9980</th>\n",
       "      <td>0.144728</td>\n",
       "      <td>774.739740</td>\n",
       "      <td>9.364508</td>\n",
       "      <td>0.972949</td>\n",
       "      <td>lamminar</td>\n",
       "    </tr>\n",
       "    <tr>\n",
       "      <th>9981</th>\n",
       "      <td>1.793049</td>\n",
       "      <td>2916.562749</td>\n",
       "      <td>5.374798</td>\n",
       "      <td>0.453599</td>\n",
       "      <td>turbulant</td>\n",
       "    </tr>\n",
       "    <tr>\n",
       "      <th>9982</th>\n",
       "      <td>1.216078</td>\n",
       "      <td>1917.395573</td>\n",
       "      <td>4.783381</td>\n",
       "      <td>0.767255</td>\n",
       "      <td>turbulant</td>\n",
       "    </tr>\n",
       "    <tr>\n",
       "      <th>9983</th>\n",
       "      <td>1.057003</td>\n",
       "      <td>2942.544632</td>\n",
       "      <td>1.041848</td>\n",
       "      <td>0.111766</td>\n",
       "      <td>turbulant</td>\n",
       "    </tr>\n",
       "    <tr>\n",
       "      <th>9984</th>\n",
       "      <td>0.734548</td>\n",
       "      <td>2430.845874</td>\n",
       "      <td>3.739888</td>\n",
       "      <td>0.973675</td>\n",
       "      <td>turbulant</td>\n",
       "    </tr>\n",
       "    <tr>\n",
       "      <th>9985</th>\n",
       "      <td>0.369980</td>\n",
       "      <td>2075.306991</td>\n",
       "      <td>3.071767</td>\n",
       "      <td>0.852866</td>\n",
       "      <td>turbulant</td>\n",
       "    </tr>\n",
       "    <tr>\n",
       "      <th>9986</th>\n",
       "      <td>0.981063</td>\n",
       "      <td>2971.720501</td>\n",
       "      <td>1.958314</td>\n",
       "      <td>0.668571</td>\n",
       "      <td>turbulant</td>\n",
       "    </tr>\n",
       "    <tr>\n",
       "      <th>9987</th>\n",
       "      <td>0.813523</td>\n",
       "      <td>1523.956245</td>\n",
       "      <td>0.396367</td>\n",
       "      <td>0.904534</td>\n",
       "      <td>lamminar</td>\n",
       "    </tr>\n",
       "    <tr>\n",
       "      <th>9988</th>\n",
       "      <td>1.716242</td>\n",
       "      <td>1064.446877</td>\n",
       "      <td>6.177416</td>\n",
       "      <td>0.112762</td>\n",
       "      <td>turbulant</td>\n",
       "    </tr>\n",
       "    <tr>\n",
       "      <th>9989</th>\n",
       "      <td>1.184100</td>\n",
       "      <td>1888.406038</td>\n",
       "      <td>7.239613</td>\n",
       "      <td>0.820385</td>\n",
       "      <td>turbulant</td>\n",
       "    </tr>\n",
       "    <tr>\n",
       "      <th>9990</th>\n",
       "      <td>1.960786</td>\n",
       "      <td>2325.115659</td>\n",
       "      <td>8.551447</td>\n",
       "      <td>0.860573</td>\n",
       "      <td>turbulant</td>\n",
       "    </tr>\n",
       "    <tr>\n",
       "      <th>9991</th>\n",
       "      <td>1.321446</td>\n",
       "      <td>389.811796</td>\n",
       "      <td>7.928740</td>\n",
       "      <td>0.928505</td>\n",
       "      <td>turbulant</td>\n",
       "    </tr>\n",
       "    <tr>\n",
       "      <th>9992</th>\n",
       "      <td>1.160150</td>\n",
       "      <td>2574.889791</td>\n",
       "      <td>2.096660</td>\n",
       "      <td>0.020797</td>\n",
       "      <td>turbulant</td>\n",
       "    </tr>\n",
       "    <tr>\n",
       "      <th>9993</th>\n",
       "      <td>1.099302</td>\n",
       "      <td>2618.854178</td>\n",
       "      <td>5.484343</td>\n",
       "      <td>0.540855</td>\n",
       "      <td>turbulant</td>\n",
       "    </tr>\n",
       "    <tr>\n",
       "      <th>9994</th>\n",
       "      <td>1.535190</td>\n",
       "      <td>846.136129</td>\n",
       "      <td>5.647840</td>\n",
       "      <td>0.820350</td>\n",
       "      <td>turbulant</td>\n",
       "    </tr>\n",
       "    <tr>\n",
       "      <th>9995</th>\n",
       "      <td>0.292941</td>\n",
       "      <td>1103.015200</td>\n",
       "      <td>6.265781</td>\n",
       "      <td>0.441349</td>\n",
       "      <td>turbulant</td>\n",
       "    </tr>\n",
       "    <tr>\n",
       "      <th>9996</th>\n",
       "      <td>1.153293</td>\n",
       "      <td>1279.313607</td>\n",
       "      <td>3.535197</td>\n",
       "      <td>0.236990</td>\n",
       "      <td>turbulant</td>\n",
       "    </tr>\n",
       "    <tr>\n",
       "      <th>9997</th>\n",
       "      <td>0.804705</td>\n",
       "      <td>2624.185085</td>\n",
       "      <td>1.293965</td>\n",
       "      <td>0.002049</td>\n",
       "      <td>turbulant</td>\n",
       "    </tr>\n",
       "    <tr>\n",
       "      <th>9998</th>\n",
       "      <td>1.706099</td>\n",
       "      <td>1293.248551</td>\n",
       "      <td>0.120448</td>\n",
       "      <td>0.192869</td>\n",
       "      <td>lamminar</td>\n",
       "    </tr>\n",
       "    <tr>\n",
       "      <th>9999</th>\n",
       "      <td>0.230784</td>\n",
       "      <td>82.539161</td>\n",
       "      <td>9.141247</td>\n",
       "      <td>0.538406</td>\n",
       "      <td>lamminar</td>\n",
       "    </tr>\n",
       "  </tbody>\n",
       "</table>\n",
       "<p>10000 rows × 5 columns</p>\n",
       "</div>"
      ],
      "text/plain": [
       "      velocity      density    length  viscosity fluid_type\n",
       "0     0.001199  2379.887833  6.206772   0.976542   lamminar\n",
       "1     1.799135  2769.280287  0.067811   0.630434   lamminar\n",
       "2     0.827366  1972.343405  4.918656   0.308560  turbulant\n",
       "3     0.368279   544.946357  1.732997   0.943328   lamminar\n",
       "4     0.613303  2954.479401  0.616355   0.426081  turbulant\n",
       "5     0.420170   807.780227  5.465739   0.988169   lamminar\n",
       "6     0.075826  2344.900850  3.522335   0.406993   lamminar\n",
       "7     0.106172  2036.190906  1.579430   0.795216   lamminar\n",
       "8     1.446178   744.423547  0.830286   0.652682   lamminar\n",
       "9     0.470074   167.040247  0.383250   0.319995   lamminar\n",
       "10    1.032948  2878.449983  1.188335   0.666679  turbulant\n",
       "11    0.507703  2167.997296  2.613769   0.417810  turbulant\n",
       "12    0.262153  2585.302439  1.995438   0.927832   lamminar\n",
       "13    1.361924  1018.330638  9.988805   0.167793  turbulant\n",
       "14    1.299840  1853.283042  9.963603   0.727465  turbulant\n",
       "15    1.258244  2467.539791  8.378472   0.784617  turbulant\n",
       "16    1.993037  1734.152122  5.730728   0.595061  turbulant\n",
       "17    0.609754   579.786986  9.846585   0.308865  turbulant\n",
       "18    0.790419  2140.768505  3.643380   0.490836  turbulant\n",
       "19    1.641715  1785.678017  3.706917   0.368654  turbulant\n",
       "20    0.766016  2221.523038  1.408488   0.284817  turbulant\n",
       "21    1.246288   755.794339  6.675452   0.792657  turbulant\n",
       "22    1.141067  1425.748336  3.172551   0.093502  turbulant\n",
       "23    1.934050  2276.136740  8.582445   0.645014  turbulant\n",
       "24    0.331757   218.982353  0.599484   0.129491   lamminar\n",
       "25    0.785686  2490.185133  1.907432   0.460297  turbulant\n",
       "26    1.278734   398.294341  4.786277   0.726066  turbulant\n",
       "27    0.644223  2820.959142  5.309406   0.071323  turbulant\n",
       "28    0.994325  1101.670815  1.821274   0.207047  turbulant\n",
       "29    1.471245  2383.373927  4.620107   0.136334  turbulant\n",
       "...        ...          ...       ...        ...        ...\n",
       "9970  1.790069  2563.965167  2.772100   0.324221  turbulant\n",
       "9971  1.826607  2975.061257  0.619466   0.002570  turbulant\n",
       "9972  1.309232  2272.384181  7.831420   0.142343  turbulant\n",
       "9973  1.789608  1101.829219  4.611517   0.966127  turbulant\n",
       "9974  1.311689  2394.387808  3.986245   0.360391  turbulant\n",
       "9975  0.223764  1984.883808  9.987824   0.012562  turbulant\n",
       "9976  1.802557   508.652587  7.394867   0.933610  turbulant\n",
       "9977  0.665029   991.482269  9.769317   0.346128  turbulant\n",
       "9978  0.313008  1709.509404  2.621570   0.283434  turbulant\n",
       "9979  1.962166  2712.499340  6.929813   0.849965  turbulant\n",
       "9980  0.144728   774.739740  9.364508   0.972949   lamminar\n",
       "9981  1.793049  2916.562749  5.374798   0.453599  turbulant\n",
       "9982  1.216078  1917.395573  4.783381   0.767255  turbulant\n",
       "9983  1.057003  2942.544632  1.041848   0.111766  turbulant\n",
       "9984  0.734548  2430.845874  3.739888   0.973675  turbulant\n",
       "9985  0.369980  2075.306991  3.071767   0.852866  turbulant\n",
       "9986  0.981063  2971.720501  1.958314   0.668571  turbulant\n",
       "9987  0.813523  1523.956245  0.396367   0.904534   lamminar\n",
       "9988  1.716242  1064.446877  6.177416   0.112762  turbulant\n",
       "9989  1.184100  1888.406038  7.239613   0.820385  turbulant\n",
       "9990  1.960786  2325.115659  8.551447   0.860573  turbulant\n",
       "9991  1.321446   389.811796  7.928740   0.928505  turbulant\n",
       "9992  1.160150  2574.889791  2.096660   0.020797  turbulant\n",
       "9993  1.099302  2618.854178  5.484343   0.540855  turbulant\n",
       "9994  1.535190   846.136129  5.647840   0.820350  turbulant\n",
       "9995  0.292941  1103.015200  6.265781   0.441349  turbulant\n",
       "9996  1.153293  1279.313607  3.535197   0.236990  turbulant\n",
       "9997  0.804705  2624.185085  1.293965   0.002049  turbulant\n",
       "9998  1.706099  1293.248551  0.120448   0.192869   lamminar\n",
       "9999  0.230784    82.539161  9.141247   0.538406   lamminar\n",
       "\n",
       "[10000 rows x 5 columns]"
      ]
     },
     "execution_count": 80,
     "metadata": {},
     "output_type": "execute_result"
    }
   ],
   "source": [
    "rNo[\"fluid_type\"]=fluid\n",
    "rNo"
   ]
  },
  {
   "cell_type": "code",
   "execution_count": 188,
   "metadata": {},
   "outputs": [],
   "source": [
    "import torch\n",
    "import torch.nn as nn\n",
    "import torch.optim as optim\n",
    "\n",
    "# model=nn.Sequential(nn.Linear(4,10),\n",
    "#                     nn.ReLU(),\n",
    "#                     nn.Linear(10,2),\n",
    "#                     nn.ReLU(),\n",
    "#                     nn.Linear(2,1),\n",
    "#                    nn.ReLU())\n",
    "\n",
    "class Network(nn.Module):\n",
    "    def __init__(self):\n",
    "        super().__init__()\n",
    "        \n",
    "        self.l1=nn.Linear(4,10)\n",
    "        self.l2=nn.Linear(10,1)\n",
    "        \n",
    "        self.sig=nn.Sigmoid()\n",
    "        self.relu = nn.ReLU()\n",
    "    \n",
    "    def forward(self,x):\n",
    "        out=self.l1(x)\n",
    "        out=self.sig(out)\n",
    "        out=self.l2(out)\n",
    "        return(self.relu(out))"
   ]
  },
  {
   "cell_type": "code",
   "execution_count": 189,
   "metadata": {},
   "outputs": [],
   "source": [
    "model=Network()\n",
    "rNo.columns\n",
    "rNo_tensor=torch.zeros((no_elements,5))"
   ]
  },
  {
   "cell_type": "code",
   "execution_count": 190,
   "metadata": {},
   "outputs": [
    {
     "data": {
      "text/plain": [
       "torch.Size([10000, 5])"
      ]
     },
     "execution_count": 190,
     "metadata": {},
     "output_type": "execute_result"
    }
   ],
   "source": [
    "rNo_tensor.shape"
   ]
  },
  {
   "cell_type": "code",
   "execution_count": 191,
   "metadata": {},
   "outputs": [],
   "source": [
    "rNo.shape\n",
    "rNo_tensor=torch.zeros(rNo.shape)\n",
    "rNo_tensor[:,0] = torch.tensor(rNo.velocity/rNo.velocity.max())\n",
    "rNo_tensor[:,1] = torch.tensor(rNo.density/rNo.density.max())\n",
    "rNo_tensor[:,2] = torch.tensor(rNo.length/rNo.length.max())\n",
    "rNo_tensor[:,3] = torch.tensor(rNo.viscosity/rNo.viscosity.max())"
   ]
  },
  {
   "cell_type": "code",
   "execution_count": 192,
   "metadata": {},
   "outputs": [
    {
     "data": {
      "text/plain": [
       "tensor([0., 0., 1.,  ..., 1., 0., 0.])"
      ]
     },
     "execution_count": 192,
     "metadata": {},
     "output_type": "execute_result"
    }
   ],
   "source": [
    "#0---lamminar\n",
    "#1---tuirbulant\n",
    "fluid_typ_tensor = torch.zeros(no_elements)\n",
    "fluid_typ_tensor[np.argwhere(rNo.fluid_type==\"turbulant\").flatten()]=1\n",
    "rNo_tensor[:,4].copy_(fluid_typ_tensor)"
   ]
  },
  {
   "cell_type": "code",
   "execution_count": 251,
   "metadata": {},
   "outputs": [
    {
     "data": {
      "text/plain": [
       "tensor([[0.1381, 0.0722, 0.9827, 0.6483, 0.0000],\n",
       "        [0.0788, 0.8652, 0.4552, 0.4082, 1.0000],\n",
       "        [0.4049, 0.3390, 0.2655, 0.7880, 1.0000],\n",
       "        [0.7007, 0.5286, 0.3852, 0.2449, 1.0000],\n",
       "        [0.2946, 0.2649, 0.0298, 0.8613, 0.0000],\n",
       "        [0.0396, 0.6686, 0.9375, 0.2770, 1.0000],\n",
       "        [0.3025, 0.7660, 0.3792, 0.1439, 1.0000],\n",
       "        [0.6716, 0.6027, 0.3361, 0.8242, 1.0000],\n",
       "        [0.0182, 0.7850, 0.7131, 0.1631, 1.0000],\n",
       "        [0.1198, 0.6649, 0.0257, 0.9406, 0.0000],\n",
       "        [0.9205, 0.3016, 0.0778, 0.9023, 0.0000],\n",
       "        [0.7005, 0.5105, 0.4629, 0.2719, 1.0000],\n",
       "        [0.9131, 0.4804, 0.9306, 0.5397, 1.0000],\n",
       "        [0.6447, 0.2205, 0.5542, 0.4112, 1.0000],\n",
       "        [0.7348, 0.5221, 0.7027, 0.9497, 1.0000],\n",
       "        [0.8644, 0.7518, 0.5987, 0.5039, 1.0000],\n",
       "        [0.7433, 0.8507, 0.1774, 0.2053, 1.0000],\n",
       "        [0.4558, 0.9217, 0.6656, 0.4214, 1.0000],\n",
       "        [0.0849, 0.5687, 0.7817, 0.8744, 1.0000],\n",
       "        [0.5147, 0.9385, 0.4861, 0.7121, 1.0000],\n",
       "        [0.2916, 0.8292, 0.8342, 0.7225, 1.0000],\n",
       "        [0.3176, 0.0476, 0.3823, 0.5913, 0.0000],\n",
       "        [0.9135, 0.4308, 0.6958, 0.6945, 1.0000],\n",
       "        [0.5221, 0.1672, 0.1587, 0.1832, 1.0000],\n",
       "        [0.5412, 0.0289, 0.6665, 0.4458, 0.0000],\n",
       "        [0.1279, 0.4491, 0.2617, 0.6395, 0.0000],\n",
       "        [0.0163, 0.6253, 0.0286, 0.6707, 0.0000],\n",
       "        [0.8720, 0.5651, 0.6028, 0.5043, 1.0000],\n",
       "        [0.8503, 0.0363, 0.6158, 0.7443, 0.0000],\n",
       "        [0.2554, 0.3096, 0.4208, 0.5131, 1.0000],\n",
       "        [0.8824, 0.8337, 0.1781, 0.9408, 1.0000],\n",
       "        [0.5351, 0.1985, 0.1701, 0.4400, 1.0000],\n",
       "        [0.5328, 0.0754, 0.9167, 0.3381, 1.0000],\n",
       "        [0.7387, 0.6912, 0.5586, 0.2822, 1.0000],\n",
       "        [0.6357, 0.5798, 0.6199, 0.0075, 1.0000],\n",
       "        [0.1337, 0.1782, 0.7412, 0.8428, 0.0000],\n",
       "        [0.2969, 0.5985, 0.4742, 0.6557, 1.0000],\n",
       "        [0.8739, 0.3076, 0.5733, 0.9470, 1.0000],\n",
       "        [0.4944, 0.5682, 0.3848, 0.7158, 1.0000],\n",
       "        [0.5543, 0.7299, 0.1843, 0.3121, 1.0000],\n",
       "        [0.7210, 0.5596, 0.8970, 0.4835, 1.0000],\n",
       "        [0.3779, 0.0398, 0.7354, 0.8845, 0.0000],\n",
       "        [0.9553, 0.0523, 0.9208, 0.1952, 1.0000],\n",
       "        [0.7789, 0.0096, 0.9433, 0.0835, 1.0000],\n",
       "        [0.3241, 0.0567, 0.9931, 0.8233, 0.0000],\n",
       "        [0.2034, 0.6677, 0.8248, 0.4203, 1.0000],\n",
       "        [0.3513, 0.1398, 0.1329, 0.7254, 0.0000],\n",
       "        [0.4385, 0.3974, 0.9651, 0.9947, 1.0000],\n",
       "        [0.5160, 0.1646, 0.9610, 0.4450, 1.0000],\n",
       "        [0.5120, 0.7398, 0.0495, 0.4731, 1.0000]])"
      ]
     },
     "execution_count": 251,
     "metadata": {},
     "output_type": "execute_result"
    }
   ],
   "source": [
    "loder=torch.utils.data.DataLoader(rNo_tensor,batch_size=50,shuffle=True)\n",
    "criterion = nn.BCELoss()\n",
    "optimizer = optim.Adam(net.parameters(), lr=0.001, betas=(0.9, 0.999))\n",
    "ii=iter(loder)\n",
    "ii.next()"
   ]
  },
  {
   "cell_type": "code",
   "execution_count": 255,
   "metadata": {},
   "outputs": [
    {
     "name": "stderr",
     "output_type": "stream",
     "text": [
      "/home/lsr/anaconda3/lib/python3.6/site-packages/torch/tensor.py:287: UserWarning: non-inplace resize is deprecated\n",
      "  warnings.warn(\"non-inplace resize is deprecated\")\n"
     ]
    }
   ],
   "source": [
    "epochs =100\n",
    "lss=[]\n",
    "for e in range(epochs):\n",
    "    r_loss=0\n",
    "    for rN_set in loder:\n",
    "        optimizer.zero_grad()\n",
    "        x_batch = Variable(rN_set[:,:4])\n",
    "        y_batch = Variable(rN_set[:,4])\n",
    "        op=model(x_batch)\n",
    "        loss = criterion(op.resize(50),y_batch)\n",
    "        loss.backward()\n",
    "        optimizer.step()\n",
    "        r_loss += loss.item()\n",
    "    lss.append(r_loss)"
   ]
  },
  {
   "cell_type": "code",
   "execution_count": 256,
   "metadata": {},
   "outputs": [
    {
     "data": {
      "text/plain": [
       "[<matplotlib.lines.Line2D at 0x7f91bf836eb8>]"
      ]
     },
     "execution_count": 256,
     "metadata": {},
     "output_type": "execute_result"
    },
    {
     "data": {
      "image/png": "[encoded data removed]",
      "text/plain": [
       "<Figure size 432x288 with 1 Axes>"
      ]
     },
     "metadata": {},
     "output_type": "display_data"
    }
   ],
   "source": [
    "plt.plot(lss)"
   ]
  },
  {
   "cell_type": "code",
   "execution_count": 12,
   "metadata": {},
   "outputs": [],
   "source": [
    "import torch\n",
    "import torch.nn as nn"
   ]
  },
  {
   "cell_type": "code",
   "execution_count": 120,
   "metadata": {},
   "outputs": [],
   "source": [
    "import torch.utils.data as data "
   ]
  },
  {
   "cell_type": "code",
   "execution_count": 141,
   "metadata": {},
   "outputs": [
    {
     "data": {
      "text/plain": [
       "True"
      ]
     },
     "execution_count": 141,
     "metadata": {},
     "output_type": "execute_result"
    }
   ],
   "source": [
    "d=data.RandomSampler(rNo_tensor,True,1000)\n",
    "d.replacement"
   ]
  },
  {
   "cell_type": "code",
   "execution_count": 144,
   "metadata": {},
   "outputs": [
    {
     "data": {
      "text/plain": [
       "<torch.utils.data.sampler.SubsetRandomSampler at 0x7f921f8e1e48>"
      ]
     },
     "execution_count": 144,
     "metadata": {},
     "output_type": "execute_result"
    }
   ],
   "source": [
    "data.SubsetRandomSampler(rNo_tensor)"
   ]
  },
  {
   "cell_type": "code",
   "execution_count": 136,
   "metadata": {},
   "outputs": [],
   "source": [
    "bla=data.DataLoader(rNo_tensor,batch_size=64,shuffle=True)"
   ]
  },
  {
   "cell_type": "code",
   "execution_count": 143,
   "metadata": {},
   "outputs": [
    {
     "data": {
      "text/plain": [
       "935"
      ]
     },
     "execution_count": 143,
     "metadata": {},
     "output_type": "execute_result"
    }
   ],
   "source": [
    "next(iter(d))"
   ]
  },
  {
   "cell_type": "code",
   "execution_count": null,
   "metadata": {},
   "outputs": [],
   "source": [
    "model=nn.Sequential(nn.Linear(784,128),\n",
    "                    nn.ReLU(),\n",
    "                    nn.Linear(128,64),\n",
    "                    nn.ReLU(),\n",
    "                    nn.Linear(64,10),\n",
    "                   nn.Softmax(dim=1))\n",
    "criterion = nn.NLLLoss()\n",
    "optimizer =optim.Adam(net.parameters(), lr=0.001, betas=(0.9, 0.999))\n",
    "epochs =5\n",
    "\n",
    "for e in range(epochs):\n",
    "    r_loss=0\n",
    "    for images,labels in trainLoader:\n",
    "        images = images.view(images.shape[0],-1)\n",
    "        op=model(images)\n",
    "        loss = criterion(op,labels)\n",
    "        loss.backward()\n",
    "        optimizer.step()\n",
    "        r_loss += loss.item()\n",
    "        \n",
    "    print(r_loss)\n"
   ]
  },
  {
   "cell_type": "code",
   "execution_count": 13,
   "metadata": {},
   "outputs": [
    {
     "data": {
      "text/plain": [
       "Index(['velocity', 'density', 'length', 'viscosity'], dtype='object')"
      ]
     },
     "execution_count": 13,
     "metadata": {},
     "output_type": "execute_result"
    }
   ],
   "source": [
    "rNo.columns"
   ]
  },
  {
   "cell_type": "code",
   "execution_count": 149,
   "metadata": {},
   "outputs": [],
   "source": [
    "from torchvision.datasets import CIFAR10\n",
    "from torchvision import transforms"
   ]
  },
  {
   "cell_type": "code",
   "execution_count": 150,
   "metadata": {},
   "outputs": [],
   "source": [
    "_tasks = transforms.Compose([\n",
    "    transforms.ToTensor(),\n",
    "    transforms.Normalize((0.5, 0.5, 0.5), (0.5, 0.5, 0.5))\n",
    "    ])"
   ]
  },
  {
   "cell_type": "code",
   "execution_count": 151,
   "metadata": {},
   "outputs": [
    {
     "name": "stdout",
     "output_type": "stream",
     "text": [
      "Downloading https://www.cs.toronto.edu/~kriz/cifar-10-python.tar.gz to data/cifar-10-python.tar.gz\n"
     ]
    }
   ],
   "source": [
    "cifar = CIFAR10('data', train=True, download=True, transform=_tasks)"
   ]
  },
  {
   "cell_type": "code",
   "execution_count": 152,
   "metadata": {},
   "outputs": [
    {
     "data": {
      "text/plain": [
       "50000"
      ]
     },
     "execution_count": 152,
     "metadata": {},
     "output_type": "execute_result"
    }
   ],
   "source": [
    "len(cifar)"
   ]
  },
  {
   "cell_type": "code",
   "execution_count": 154,
   "metadata": {},
   "outputs": [
    {
     "data": {
      "text/plain": [
       "Dataset CIFAR10\n",
       "    Number of datapoints: 50000\n",
       "    Split: train\n",
       "    Root Location: data\n",
       "    Transforms (if any): Compose(\n",
       "                             ToTensor()\n",
       "                             Normalize(mean=(0.5, 0.5, 0.5), std=(0.5, 0.5, 0.5))\n",
       "                         )\n",
       "    Target Transforms (if any): None"
      ]
     },
     "execution_count": 154,
     "metadata": {},
     "output_type": "execute_result"
    }
   ],
   "source": [
    "cifar"
   ]
  },
  {
   "cell_type": "code",
   "execution_count": 156,
   "metadata": {},
   "outputs": [],
   "source": [
    "split = int(0.8 * len(cifar))\n",
    "index_list = list(range(len(cifar)))\n",
    "train_idx, valid_idx = index_list[:split], index_list[split:]"
   ]
  },
  {
   "cell_type": "code",
   "execution_count": 262,
   "metadata": {},
   "outputs": [],
   "source": [
    "from torch.autograd import Variable\n",
    "class Net(nn.Module):\n",
    "    \n",
    "    def __init__(self):\n",
    "        super().__init__()\n",
    "        self.fc1 = nn.Linear(4, 10)\n",
    "        self.relu1 = nn.ReLU()\n",
    "        self.dout = nn.Dropout(0.2)\n",
    "        self.fc2 = nn.Linear(10, 10)\n",
    "        self.prelu = nn.PReLU(1)\n",
    "        self.out = nn.Linear(10, 1)\n",
    "        self.out_act = nn.Sigmoid()\n",
    "        \n",
    "    def forward(self, input_):\n",
    "        a1 = self.fc1(input_)\n",
    "        h1 = self.relu1(a1)\n",
    "        dout = self.dout(h1)\n",
    "        a2 = self.fc2(dout)\n",
    "        h2 = self.prelu(a2)\n",
    "        a3 = self.out(h2)\n",
    "        y = self.out_act(a3)\n",
    "        return y\n",
    "    \n",
    "net = Net()\n",
    "opt = optim.Adam(net.parameters(), lr=0.001, betas=(0.9, 0.999))\n",
    "criterion = nn.BCELoss()"
   ]
  },
  {
   "cell_type": "code",
   "execution_count": 263,
   "metadata": {},
   "outputs": [],
   "source": [
    "def train_epoch(model, opt, criterion, batch_size=50):\n",
    "    model.train()\n",
    "    losses = []\n",
    "    for beg_i in range(0, X.size(0), batch_size):\n",
    "        x_batch = X[beg_i:beg_i + batch_size, :]\n",
    "        y_batch = Y[beg_i:beg_i + batch_size]\n",
    "        x_batch = Variable(x_batch)\n",
    "        y_batch = Variable(y_batch)\n",
    "\n",
    "        opt.zero_grad()\n",
    "        # (1) Forward\n",
    "        y_hat = net(x_batch)\n",
    "        # (2) Compute diff\n",
    "        loss = criterion(y_hat, y_batch)\n",
    "        # (3) Compute gradients\n",
    "        loss.backward()\n",
    "        # (4) update weights\n",
    "        opt.step()        \n",
    "        losses.append(loss.data.numpy())\n",
    "    return losses"
   ]
  },
  {
   "cell_type": "code",
   "execution_count": 264,
   "metadata": {},
   "outputs": [],
   "source": [
    "X = rNo_tensor[:,:4]\n",
    "Y = rNo_tensor[:,4]"
   ]
  },
  {
   "cell_type": "code",
   "execution_count": 265,
   "metadata": {},
   "outputs": [
    {
     "name": "stderr",
     "output_type": "stream",
     "text": [
      "/home/lsr/anaconda3/lib/python3.6/site-packages/torch/nn/functional.py:2016: UserWarning: Using a target size (torch.Size([50])) that is different to the input size (torch.Size([50, 1])) is deprecated. Please ensure they have the same size.\n",
      "  \"Please ensure they have the same size.\".format(target.size(), input.size()))\n"
     ]
    },
    {
     "data": {
      "text/plain": [
       "[<matplotlib.lines.Line2D at 0x7f91bf7c98d0>]"
      ]
     },
     "execution_count": 265,
     "metadata": {},
     "output_type": "execute_result"
    },
    {
     "data": {
      "image/png": "[encoded data removed]",
      "text/plain": [
       "<Figure size 432x288 with 1 Axes>"
      ]
     },
     "metadata": {},
     "output_type": "display_data"
    }
   ],
   "source": [
    "\n",
    "\n",
    "e_losses = []\n",
    "num_epochs = 20\n",
    "for e in range(num_epochs):\n",
    "    e_losses += train_epoch(net, opt, criterion)\n",
    "plt.plot(e_losses)\n"
   ]
  },
  {
   "cell_type": "code",
   "execution_count": 228,
   "metadata": {},
   "outputs": [
    {
     "data": {
      "text/plain": [
       "20"
      ]
     },
     "execution_count": 228,
     "metadata": {},
     "output_type": "execute_result"
    }
   ],
   "source": [
    "num_epochs"
   ]
  },
  {
   "cell_type": "code",
   "execution_count": 257,
   "metadata": {},
   "outputs": [
    {
     "data": {
      "text/plain": [
       "4000"
      ]
     },
     "execution_count": 257,
     "metadata": {},
     "output_type": "execute_result"
    }
   ],
   "source": [
    "len(e_losses)"
   ]
  },
  {
   "cell_type": "code",
   "execution_count": null,
   "metadata": {},
   "outputs": [],
   "source": []
  }
 ],
 "metadata": {
  "kernelspec": {
   "display_name": "Python 3",
   "language": "python",
   "name": "python3"
  },
  "language_info": {
   "codemirror_mode": {
    "name": "ipython",
    "version": 3
   },
   "file_extension": ".py",
   "mimetype": "text/x-python",
   "name": "python",
   "nbconvert_exporter": "python",
   "pygments_lexer": "ipython3",
   "version": "3.6.5"
  }
 },
 "nbformat": 4,
 "nbformat_minor": 2
}
